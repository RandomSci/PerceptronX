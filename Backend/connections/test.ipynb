{
 "cells": [
  {
   "cell_type": "code",
   "execution_count": 18,
   "metadata": {},
   "outputs": [
    {
     "data": {
      "text/plain": [
       "'Recorded successfully!'"
      ]
     },
     "execution_count": 18,
     "metadata": {},
     "output_type": "execute_result"
    }
   ],
   "source": [
    "from pymongo import MongoClient\n",
    "from pydantic import BaseModel as BM\n",
    "\n",
    "client = MongoClient(\"mongodb://localhost:27017/\")\n",
    "\n",
    "db = client['PerceptronX']\n",
    "User = db['User']\n",
    "Annotations = db['Annotations']\n",
    "\n",
    "class More(BM):\n",
    "    def __init__(self):\n",
    "        super().__init__()\n",
    "    def Annot(ImageFile, annotations, Height, Width, Save_Location):\n",
    "        bson =  {\n",
    "            \"Image\": ImageFile,\n",
    "            \"Annotations\": list(annotations),\n",
    "            \"Size\": {\n",
    "                \"Height\": Height,\n",
    "                \"Width\": Width\n",
    "            },\n",
    "            \"Save Location\": Save_Location\n",
    "        }\n",
    "        \n",
    "        command = db.Annotations.insert_one(bson)\n",
    "        return \"Recorded successfully!\" if command else \"Record failed!\"\n",
    "    \n",
    "    \n",
    "    def users():\n",
    "        pass\n",
    "    \n",
    "m = More\n",
    "x = m.Annot(ImageFile=\"Image3.png\", annotations=[3, 5, 7, 9], Width=850, Height=1340, Save_Location=\"../Sample\")\n",
    "x"
   ]
  },
  {
   "cell_type": "code",
   "execution_count": null,
   "metadata": {},
   "outputs": [],
   "source": [
    "'First name, Last name, Nickname, Email, Username, Password'"
   ]
  },
  {
   "cell_type": "code",
   "execution_count": 19,
   "metadata": {},
   "outputs": [
    {
     "name": "stdout",
     "output_type": "stream",
     "text": [
      "{'_id': ObjectId('67e79fa8812d05550e2d7e4d'), 'Image': 'Image.png', 'Annotations': [1, 2, 3, 4], 'Size': {'Height': 800, 'Width': 500}, 'Save Location': './Home'}\n",
      "{'_id': ObjectId('67e79fe3812d05550e2d7e4f'), 'Image': 'Image2.png', 'Annotations': [2, 4, 6, 8], 'Size': {'Height': 1280, 'Width': 800}, 'Save Location': '../Home'}\n",
      "{'_id': ObjectId('67e7edfbc0931ce7dba226d0'), 'Image': 'Image2.png', 'Annotations': [2, 4, 6, 8], 'Size': {'Height': 1280, 'Width': 800}, 'Save Location': '../Home'}\n",
      "{'_id': ObjectId('67e80c9ac0931ce7dba226d2'), 'Image': 'Image3.png', 'Annotations': [3, 5, 7, 9], 'Size': {'Height': 1340, 'Width': 850}, 'Save Location': '../Sample'}\n"
     ]
    }
   ],
   "source": [
    "res = db.Annotations.find()\n",
    "for i in res:\n",
    "    print(i)"
   ]
  },
  {
   "cell_type": "code",
   "execution_count": null,
   "metadata": {},
   "outputs": [],
   "source": []
  },
  {
   "cell_type": "code",
   "execution_count": null,
   "metadata": {},
   "outputs": [],
   "source": []
  }
 ],
 "metadata": {
  "kernelspec": {
   "display_name": "ForProjects",
   "language": "python",
   "name": "python3"
  },
  "language_info": {
   "codemirror_mode": {
    "name": "ipython",
    "version": 3
   },
   "file_extension": ".py",
   "mimetype": "text/x-python",
   "name": "python",
   "nbconvert_exporter": "python",
   "pygments_lexer": "ipython3",
   "version": "3.11.8"
  }
 },
 "nbformat": 4,
 "nbformat_minor": 2
}
