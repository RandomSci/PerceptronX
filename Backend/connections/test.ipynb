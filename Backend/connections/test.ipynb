{
 "cells": [
  {
   "cell_type": "code",
   "execution_count": 3,
   "metadata": {},
   "outputs": [
    {
     "data": {
      "text/plain": [
       "'Recorded successfully!'"
      ]
     },
     "execution_count": 3,
     "metadata": {},
     "output_type": "execute_result"
    }
   ],
   "source": [
    "from pymongo import MongoClient\n",
    "from pydantic import BaseModel as BM\n",
    "\n",
    "client = MongoClient(\"mongodb://localhost:27017/\")\n",
    "\n",
    "db = client['PerceptronX']\n",
    "User = db['User']\n",
    "Annotations = db['Annotations']\n",
    "\n",
    "class More(BM):\n",
    "    def __init__(self):\n",
    "        super().__init__()\n",
    "    def Annot(ImageFile, annotations, Height, Width, Save_Location):\n",
    "        bson =  {\n",
    "            \"Image\": ImageFile,\n",
    "            \"Annotations\": list(annotations),\n",
    "            \"Size\": {\n",
    "                \"Height\": Height,\n",
    "                \"Width\": Width\n",
    "            },\n",
    "            \"Save Location\": Save_Location\n",
    "        }\n",
    "        \n",
    "        command = db.Annotations.insert_one(bson)\n",
    "        return \"Recorded successfully!\" if command else \"Record failed!\"\n",
    "    \n",
    "    \n",
    "    def users():\n",
    "        pass\n",
    "    \n",
    "m = More\n",
    "x = m.Annot(ImageFile=\"Image3.png\", annotations=[3, 5, 7, 9], Width=850, Height=1340, Save_Location=\"../Sample\")\n",
    "x"
   ]
  },
  {
   "cell_type": "code",
   "execution_count": 9,
   "metadata": {},
   "outputs": [],
   "source": [
    "res = db.annotations.find()\n",
    "for i in res:\n",
    "    print(i)"
   ]
  },
  {
   "cell_type": "code",
   "execution_count": 2,
   "metadata": {},
   "outputs": [],
   "source": [
    "from pymongo import MongoClient\n",
    "from pydantic import BaseModel as BM\n",
    "\n",
    "client = MongoClient(\"mongodb://localhost:27017/\")\n",
    "\n",
    "db = client['PerceptronX']\n",
    "User = db['User']\n",
    "Annotations = db['annotations']\n",
    "\n",
    "def serialize_document(doc):\n",
    "    \"\"\"Convert MongoDB document to a JSON-serializable format\"\"\"\n",
    "    return {\n",
    "        \"id\": str(doc[\"_id\"]),\n",
    "        \"user_id\": doc[\"user_id\"],\n",
    "        \"image\": doc[\"image\"],\n",
    "        \"annotations\": doc[\"annotations\"],\n",
    "        \"size\": doc[\"size\"],\n",
    "        \"save_location\": doc[\"save_location\"],\n",
    "        \"model_used\": doc[\"model_used\"],\n",
    "        \"timestamp\": doc[\"timestamp\"].isoformat(),\n",
    "        \"status\": doc[\"status\"],\n",
    "        \"confidence_threshold\": doc[\"confidence_threshold\"],\n",
    "        \"processing_time\": doc[\"processing_time\"],\n",
    "        \"device\": doc[\"device\"]\n",
    "    }\n",
    "    \n"
   ]
  },
  {
   "cell_type": "code",
   "execution_count": null,
   "metadata": {},
   "outputs": [],
   "source": []
  }
 ],
 "metadata": {
  "kernelspec": {
   "display_name": "ForProjects",
   "language": "python",
   "name": "python3"
  },
  "language_info": {
   "codemirror_mode": {
    "name": "ipython",
    "version": 3
   },
   "file_extension": ".py",
   "mimetype": "text/x-python",
   "name": "python",
   "nbconvert_exporter": "python",
   "pygments_lexer": "ipython3",
   "version": "3.11.8"
  }
 },
 "nbformat": 4,
 "nbformat_minor": 2
}
