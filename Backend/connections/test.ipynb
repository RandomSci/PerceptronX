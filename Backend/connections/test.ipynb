{
 "cells": [
  {
   "cell_type": "markdown",
   "metadata": {},
   "source": [
    "# Database"
   ]
  },
  {
   "cell_type": "markdown",
   "metadata": {},
   "source": [
    "## MongoDB"
   ]
  },
  {
   "cell_type": "code",
   "execution_count": 3,
   "metadata": {},
   "outputs": [
    {
     "data": {
      "text/plain": [
       "'Recorded successfully!'"
      ]
     },
     "execution_count": 3,
     "metadata": {},
     "output_type": "execute_result"
    }
   ],
   "source": [
    "from pymongo import MongoClient\n",
    "from pydantic import BaseModel as BM\n",
    "\n",
    "client = MongoClient(\"mongodb://localhost:27017/\")\n",
    "\n",
    "db = client['PerceptronX']\n",
    "User = db['User']\n",
    "Annotations = db['Annotations']\n",
    "\n",
    "class More(BM):\n",
    "    def __init__(self):\n",
    "        super().__init__()\n",
    "    def Annot(ImageFile, annotations, Height, Width, Save_Location):\n",
    "        bson =  {\n",
    "            \"Image\": ImageFile,\n",
    "            \"Annotations\": list(annotations),\n",
    "            \"Size\": {\n",
    "                \"Height\": Height,\n",
    "                \"Width\": Width\n",
    "            },\n",
    "            \"Save Location\": Save_Location\n",
    "        }\n",
    "        \n",
    "        command = db.Annotations.insert_one(bson)\n",
    "        return \"Recorded successfully!\" if command else \"Record failed!\"\n",
    "    \n",
    "    \n",
    "    def users():\n",
    "        pass\n",
    "    \n",
    "m = More\n",
    "x = m.Annot(ImageFile=\"Image3.png\", annotations=[3, 5, 7, 9], Width=850, Height=1340, Save_Location=\"../Sample\")\n",
    "x"
   ]
  },
  {
   "cell_type": "code",
   "execution_count": 9,
   "metadata": {},
   "outputs": [],
   "source": [
    "res = db.annotations.find()\n",
    "for i in res:\n",
    "    print(i)"
   ]
  },
  {
   "cell_type": "code",
   "execution_count": 2,
   "metadata": {},
   "outputs": [],
   "source": [
    "from pymongo import MongoClient\n",
    "from pydantic import BaseModel as BM\n",
    "\n",
    "client = MongoClient(\"mongodb://localhost:27017/\")\n",
    "\n",
    "db = client['PerceptronX']\n",
    "User = db['User']\n",
    "Annotations = db['annotations']\n",
    "\n",
    "def serialize_document(doc):\n",
    "    \"\"\"Convert MongoDB document to a JSON-serializable format\"\"\"\n",
    "    return {\n",
    "        \"id\": str(doc[\"_id\"]),\n",
    "        \"user_id\": doc[\"user_id\"],\n",
    "        \"image\": doc[\"image\"],\n",
    "        \"annotations\": doc[\"annotations\"],\n",
    "        \"size\": doc[\"size\"],\n",
    "        \"save_location\": doc[\"save_location\"],\n",
    "        \"model_used\": doc[\"model_used\"],\n",
    "        \"timestamp\": doc[\"timestamp\"].isoformat(),\n",
    "        \"status\": doc[\"status\"],\n",
    "        \"confidence_threshold\": doc[\"confidence_threshold\"],\n",
    "        \"processing_time\": doc[\"processing_time\"],\n",
    "        \"device\": doc[\"device\"]\n",
    "    }\n",
    "    \n"
   ]
  },
  {
   "cell_type": "code",
   "execution_count": null,
   "metadata": {},
   "outputs": [
    {
     "data": {
      "text/plain": [
       "[{'_id': ObjectId('67efe866f0e1e830be551cf4'),\n",
       "  'Image': 'Image3.png',\n",
       "  'Annotations': [3, 5, 7, 9],\n",
       "  'Size': {'Height': 1340, 'Width': 850},\n",
       "  'Save Location': '../Sample'}]"
      ]
     },
     "execution_count": 19,
     "metadata": {},
     "output_type": "execute_result"
    }
   ],
   "source": [
    "from pymongo import MongoClient\n",
    "\n",
    "def get_Mongo_db(collection_name): #MongoDB\n",
    "    MONGO_URI = \"mongodb://localhost:27017\"\n",
    "    DB_NAME = \"PerceptronX\"\n",
    "    COLLECTION_NAME = collection_name\n",
    "\n",
    "    client = MongoClient(MONGO_URI)\n",
    "    db = client[DB_NAME]\n",
    "    collection = db[COLLECTION_NAME]\n",
    "    return collection\n",
    "\n",
    "res = get_Mongo_db(\"Annotations\").find()\n",
    "[i for i in res]"
   ]
  },
  {
   "cell_type": "markdown",
   "metadata": {},
   "source": [
    "## MySql"
   ]
  },
  {
   "cell_type": "code",
   "execution_count": null,
   "metadata": {},
   "outputs": [
    {
     "name": "stdout",
     "output_type": "stream",
     "text": [
      "True\n"
     ]
    }
   ],
   "source": [
    "import mysql.connector\n",
    "\n",
    "def get_Mysql_db(): #Mysql\n",
    "    \"\"\">>> Example usecase: \n",
    "    --code\n",
    "    async def registerUser(result: Register): # Mysql \n",
    "        db = get_Mysql_db()\n",
    "        cursor = db.cursor()\n",
    "    \n",
    "        hashed_password = bcrypt.hashpw(result.password.encode(\"utf-8\"), bcrypt.gensalt())\n",
    "\n",
    "        try:\n",
    "            cursor.execute(\n",
    "                \"INSERT INTO users (username, email, password_hash) VALUES (%s, %s, %s)\",\n",
    "                (result.username, result.email, hashed_password.decode(\"utf-8\"))\n",
    "            )\n",
    "            db.commit()\n",
    "            return RedirectResponse(url=\"/\", status_code=303)\n",
    "        except mysql.connector.IntegrityError:\n",
    "            return {\"error\": \"Username or email already exists.\"}\n",
    "        finally:\n",
    "            cursor.close()\n",
    "            db.close()\n",
    "    \"\"\"\n",
    "    return mysql.connector.connect(\n",
    "        host=\"localhost\",\n",
    "        user=\"root\",\n",
    "        password=\"\",\n",
    "        database=\"perceptronx\"\n",
    "    )\n",
    "    \n",
    "res = get_Mysql_db() \n",
    "print(True) if res else print(False)"
   ]
  },
  {
   "cell_type": "code",
   "execution_count": null,
   "metadata": {},
   "outputs": [],
   "source": []
  },
  {
   "cell_type": "code",
   "execution_count": null,
   "metadata": {},
   "outputs": [],
   "source": []
  },
  {
   "cell_type": "code",
   "execution_count": null,
   "metadata": {},
   "outputs": [],
   "source": []
  },
  {
   "cell_type": "markdown",
   "metadata": {},
   "source": [
    "## Redis"
   ]
  },
  {
   "cell_type": "markdown",
   "metadata": {},
   "source": []
  },
  {
   "cell_type": "code",
   "execution_count": null,
   "metadata": {},
   "outputs": [],
   "source": [
    "import redis.asyncio as redis\n",
    "import uuid\n",
    "import os\n",
    "from dotenv import load_dotenv\n",
    "\n",
    "load_dotenv()\n",
    "\n",
    "REDIS_HOST = os.getenv(\"REDIS_HOST\", \"localhost\")\n",
    "REDIS_PORT = int(os.getenv(\"REDIS_PORT\", 6379))\n",
    "\n",
    "r = redis.Redis(host=REDIS_HOST, port=REDIS_PORT, decode_responses=True)\n",
    "\n",
    "SESSION_TTL = 3600\n",
    "\n",
    "async def create_session(data: dict, remember_me: bool = False):\n",
    "    session_id = str(uuid.uuid4())\n",
    "    await r.hmset(session_id, data)\n",
    "    if not remember_me:\n",
    "        await r.expire(session_id, SESSION_TTL)  # 1 hr only if not remembered\n",
    "    return session_id\n",
    "\n",
    "\n",
    "async def get_session(session_id: str):\n",
    "    return await r.hgetall(session_id)\n",
    "\n",
    "async def delete_session(session_id: str):\n",
    "    await r.delete(session_id)\n"
   ]
  },
  {
   "cell_type": "code",
   "execution_count": null,
   "metadata": {},
   "outputs": [],
   "source": []
  },
  {
   "cell_type": "code",
   "execution_count": null,
   "metadata": {},
   "outputs": [],
   "source": []
  },
  {
   "cell_type": "code",
   "execution_count": null,
   "metadata": {},
   "outputs": [],
   "source": []
  }
 ],
 "metadata": {
  "kernelspec": {
   "display_name": "ForProjects",
   "language": "python",
   "name": "python3"
  },
  "language_info": {
   "codemirror_mode": {
    "name": "ipython",
    "version": 3
   },
   "file_extension": ".py",
   "mimetype": "text/x-python",
   "name": "python",
   "nbconvert_exporter": "python",
   "pygments_lexer": "ipython3",
   "version": "3.10.15"
  }
 },
 "nbformat": 4,
 "nbformat_minor": 2
}
